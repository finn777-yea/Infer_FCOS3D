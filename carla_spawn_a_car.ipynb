{
 "cells": [
  {
   "cell_type": "code",
   "execution_count": 3,
   "metadata": {},
   "outputs": [],
   "source": [
    "import carla\n",
    "import random\n",
    "import time\n",
    "import os"
   ]
  },
  {
   "cell_type": "code",
   "execution_count": 4,
   "metadata": {},
   "outputs": [],
   "source": [
    "client = carla.Client(\"localhost\", 2000)"
   ]
  },
  {
   "cell_type": "code",
   "execution_count": 5,
   "metadata": {},
   "outputs": [],
   "source": [
    "world = client.load_world(\"Town03\")"
   ]
  },
  {
   "cell_type": "code",
   "execution_count": 6,
   "metadata": {},
   "outputs": [],
   "source": [
    "bp_lib = world.get_blueprint_library()"
   ]
  },
  {
   "cell_type": "code",
   "execution_count": 7,
   "metadata": {},
   "outputs": [],
   "source": [
    "vehicle_bp = bp_lib.filter(\"vehicle\")\n",
    "spawn_pts = world.get_map().get_spawn_points()"
   ]
  },
  {
   "cell_type": "code",
   "execution_count": 9,
   "metadata": {},
   "outputs": [],
   "source": [
    "ego_vehicle = world.spawn_actor(random.choice(vehicle_bp), random.choice(spawn_pts))"
   ]
  },
  {
   "cell_type": "code",
   "execution_count": 11,
   "metadata": {},
   "outputs": [],
   "source": [
    "ego_vehicle.set_autopilot(False)"
   ]
  },
  {
   "cell_type": "code",
   "execution_count": 12,
   "metadata": {},
   "outputs": [],
   "source": [
    "spectator = world.get_spectator()"
   ]
  },
  {
   "cell_type": "code",
   "execution_count": 13,
   "metadata": {},
   "outputs": [],
   "source": [
    "transform = ego_vehicle.get_transform()\n",
    "spectator.set_transform(carla.Transform(transform.location + carla.Location(x=3, z=5)))"
   ]
  },
  {
   "cell_type": "code",
   "execution_count": 14,
   "metadata": {},
   "outputs": [
    {
     "data": {
      "text/plain": [
       "{'chromatic_aberration_intensity': '0.0',\n",
       " 'tint': '0.0',\n",
       " 'shoulder': '0.26',\n",
       " 'toe': '0.55',\n",
       " 'white_clip': '0.04',\n",
       " 'slope': '0.88',\n",
       " 'blur_radius': '0.0',\n",
       " 'blur_amount': '1.0',\n",
       " 'blade_count': '5',\n",
       " 'exposure_speed_down': '1.0',\n",
       " 'min_fstop': '1.2',\n",
       " 'exposure_speed_up': '3.0',\n",
       " 'exposure_max_bright': '12.0',\n",
       " 'motion_blur_min_object_screen_size': '0.1',\n",
       " 'bloom_intensity': '0.675',\n",
       " 'lens_flare_intensity': '0.1',\n",
       " 'black_clip': '0.0',\n",
       " 'motion_blur_max_distortion': '0.35',\n",
       " 'focal_distance': '1000.0',\n",
       " 'motion_blur_intensity': '0.45',\n",
       " 'temp': '6500.0',\n",
       " 'gamma': '2.2',\n",
       " 'enable_postprocess_effects': 'true',\n",
       " 'iso': '100.0',\n",
       " 'shutter_speed': '200.0',\n",
       " 'exposure_compensation': '0.0',\n",
       " 'exposure_mode': 'histogram',\n",
       " 'calibration_constant': '16.0',\n",
       " 'lens_y_size': '0.08',\n",
       " 'lens_x_size': '0.08',\n",
       " 'lens_kcube': '0.0',\n",
       " 'lens_k': '-1.0',\n",
       " 'lens_circle_multiplier': '0.0',\n",
       " 'fstop': '1.4',\n",
       " 'fov': '90.0',\n",
       " 'image_size_y': '600',\n",
       " 'chromatic_aberration_offset': '0.0',\n",
       " 'lens_circle_falloff': '5.0',\n",
       " 'image_size_x': '800',\n",
       " 'sensor_tick': '0.0',\n",
       " 'ros_name': 'sensor.camera.rgb',\n",
       " 'exposure_min_bright': '10.0',\n",
       " 'role_name': 'front'}"
      ]
     },
     "execution_count": 14,
     "metadata": {},
     "output_type": "execute_result"
    }
   ],
   "source": [
    "cam_bp = None\n",
    "\n",
    "cam_init_transform = carla.Transform(carla.Location(z=3))\n",
    "cam_bp = world.get_blueprint_library().find(\"sensor.camera.rgb\")\n",
    "cam = world.spawn_actor(cam_bp, cam_init_transform, attach_to=ego_vehicle)\n",
    "cam.attributes"
   ]
  }
 ],
 "metadata": {
  "kernelspec": {
   "display_name": "openmmlab",
   "language": "python",
   "name": "python3"
  },
  "language_info": {
   "codemirror_mode": {
    "name": "ipython",
    "version": 3
   },
   "file_extension": ".py",
   "mimetype": "text/x-python",
   "name": "python",
   "nbconvert_exporter": "python",
   "pygments_lexer": "ipython3",
   "version": "3.8.18"
  }
 },
 "nbformat": 4,
 "nbformat_minor": 2
}
