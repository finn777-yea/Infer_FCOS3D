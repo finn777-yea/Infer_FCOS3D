{
 "cells": [
  {
   "cell_type": "code",
   "execution_count": 12,
   "metadata": {},
   "outputs": [],
   "source": [
    "import carla\n",
    "import random\n",
    "import time\n",
    "import os\n",
    "import signal\n",
    "import numpy as np\n",
    "import tempfile\n",
    "import pickle\n",
    "\n",
    "from norospy import ROSFoxgloveClient\n",
    "\n",
    "from mmdet3d.apis import MonoDet3DInferencer\n",
    "from typing import Callable, Dict, Set, Tuple, Any"
   ]
  },
  {
   "cell_type": "code",
   "execution_count": 2,
   "metadata": {},
   "outputs": [],
   "source": [
    "client = carla.Client(\"localhost\", 2000)"
   ]
  },
  {
   "cell_type": "code",
   "execution_count": 3,
   "metadata": {},
   "outputs": [],
   "source": [
    "world = client.load_world(\"Town03\")"
   ]
  },
  {
   "cell_type": "code",
   "execution_count": 4,
   "metadata": {},
   "outputs": [],
   "source": [
    "bp_lib = world.get_blueprint_library()"
   ]
  },
  {
   "cell_type": "code",
   "execution_count": 5,
   "metadata": {},
   "outputs": [],
   "source": [
    "vehicle_bp = bp_lib.filter(\"vehicle\")\n",
    "spawn_pts = world.get_map().get_spawn_points()"
   ]
  },
  {
   "cell_type": "code",
   "execution_count": 6,
   "metadata": {},
   "outputs": [],
   "source": [
    "ego_vehicle = world.spawn_actor(random.choice(vehicle_bp), random.choice(spawn_pts))"
   ]
  },
  {
   "cell_type": "code",
   "execution_count": 7,
   "metadata": {},
   "outputs": [],
   "source": [
    "# Spawn 50 vehicles randomly distributed throughout the map \n",
    "# for each spawn point, we choose a random vehicle from the blueprint library\n",
    "for i in range(0,50):\n",
    "    world.try_spawn_actor(random.choice(vehicle_bp), random.choice(spawn_pts))"
   ]
  },
  {
   "cell_type": "code",
   "execution_count": 9,
   "metadata": {},
   "outputs": [],
   "source": [
    "for vehicle in world.get_actors().filter('*vehicle*'):\n",
    "    vehicle.set_autopilot(True)"
   ]
  },
  {
   "cell_type": "code",
   "execution_count": 8,
   "metadata": {},
   "outputs": [],
   "source": [
    "spectator = world.get_spectator()"
   ]
  },
  {
   "cell_type": "code",
   "execution_count": 9,
   "metadata": {},
   "outputs": [],
   "source": [
    "transform = ego_vehicle.get_transform()\n",
    "spectator.set_transform(carla.Transform(transform.location + carla.Location(z=2), carla.Rotation(yaw=90)))"
   ]
  },
  {
   "cell_type": "code",
   "execution_count": 11,
   "metadata": {},
   "outputs": [
    {
     "data": {
      "text/plain": [
       "<bound method destroy of <carla.libcarla.ServerSideSensor object at 0x76676858af90>>"
      ]
     },
     "execution_count": 11,
     "metadata": {},
     "output_type": "execute_result"
    }
   ],
   "source": [
    "cam_bp = None\n",
    "# TODO: set proper transformation to the cam\n",
    "cam_init_transform = carla.Transform(carla.Location(z=3))\n",
    "cam_bp = world.get_blueprint_library().find(\"sensor.camera.rgb\")\n",
    "cam = world.spawn_actor(cam_bp, cam_init_transform, attach_to=ego_vehicle)\n",
    "cam.attributes\n",
    "\n",
    "time.sleep(3)\n",
    "cam.destroy"
   ]
  },
  {
   "cell_type": "code",
   "execution_count": 3,
   "metadata": {},
   "outputs": [
    {
     "name": "stdout",
     "output_type": "stream",
     "text": [
      "Loads checkpoint by local backend from path: /home/ws/uqmfs/mmdetection3d/weights/fcos3d_r101_caffe_fpn_gn-head_dcn_2x8_1x_nus-mono3d_finetune_20210717_095645-8d806dc2.pth\n",
      "05/22 17:12:54 - mmengine - \u001b[5m\u001b[4m\u001b[33mWARNING\u001b[0m - Failed to search registry with scope \"mmdet3d\" in the \"function\" registry tree. As a workaround, the current \"function\" registry in \"mmengine\" is used to build instance. This may cause unexpected failure when running the built modules. Please check whether \"mmdet3d\" is a correct scope, or whether the registry is initialized.\n",
      "Jupyter environment detected. Enabling Open3D WebVisualizer.\n",
      "[Open3D INFO] WebRTC GUI backend enabled.\n",
      "[Open3D INFO] WebRTCWindowSystem: HTTP handshake server disabled.\n"
     ]
    },
    {
     "name": "stderr",
     "output_type": "stream",
     "text": [
      "/home/ws/uqmfs/miniconda3/envs/openmmlab/lib/python3.8/site-packages/mmengine/visualization/visualizer.py:196: UserWarning: Failed to add <class 'mmengine.visualization.vis_backend.LocalVisBackend'>, please provide the `save_dir` argument.\n",
      "  warnings.warn(f'Failed to add {vis_backend.__class__}, '\n"
     ]
    }
   ],
   "source": [
    "# initialize the model\n",
    "config_path = \"/home/ws/uqmfs/mmdetection3d/configs/fcos3d/fcos3d_r101-caffe-dcn_fpn_head-gn_8xb2-1x_nus-mono3d_finetune.py\"\n",
    "checkpoint_path = \"/home/ws/uqmfs/mmdetection3d/weights/fcos3d_r101_caffe_fpn_gn-head_dcn_2x8_1x_nus-mono3d_finetune_20210717_095645-8d806dc2.pth\"\n",
    "\n",
    "inferencer = MonoDet3DInferencer(config_path, checkpoint_path)"
   ]
  },
  {
   "cell_type": "code",
   "execution_count": null,
   "metadata": {},
   "outputs": [],
   "source": [
    "def modify_anotation(image_path, camera_matrix):\n",
    "    infos = {}\n",
    "    infos={\n",
    "        'data_list': [\n",
    "            {\n",
    "                'images': {\n",
    "                    'CAM2': {\n",
    "                        'img_path': image_path,\n",
    "                        'cam2img': camera_matrix,\n",
    "                        'lidar2img': np.array([]),\n",
    "                        'lidar2cam': np.array([]),\n",
    "                    }\n",
    "                }\n",
    "            }\n",
    "        ]\n",
    "    }\n",
    "    infos_file = tempfile.NamedTemporaryFile(delete=False, suffix='.pkl')\n",
    "    pickle.dump(infos, infos_file)\n",
    "    infos_file.close()\n",
    "    return infos_file"
   ]
  },
  {
   "cell_type": "code",
   "execution_count": 13,
   "metadata": {},
   "outputs": [],
   "source": [
    "def online_inference(msg: Any, ts: int):\n",
    "    # reshape the img to (w, h, 4)\n",
    "    img = np.array(msg.raw_data).reshape(msg.width, msg.height, -1)\n",
    "    # projection/camera matrix from ros topic\n",
    "    P = np.array([400.00000000000006, 0, 400, 0, 0, 400.00000000000006, 300, 0, 0, 0, 1, 0], dtype=np.float64).reshape(3,4)\n",
    "    C = np.array([400.00000000000006, 0, 400, 0, 400.00000000000006, 300, 0, 0, 1], dtype=np.float64).reshape(3,3)\n",
    "    \n",
    "    # TODO: construct the pkl file based on the camera calibration\n",
    "    \n",
    "\n",
    "    input = dict(img=img, infos=)\n",
    "    results = inferencer(input, return_datasamples=True, show=True)"
   ]
  },
  {
   "cell_type": "code",
   "execution_count": null,
   "metadata": {},
   "outputs": [],
   "source": [
    "try:\n",
    "    client = ROSFoxgloveClient('ws://localhost:8765')\n",
    "    client.run_background()\n",
    "    client.subscribe('/carla/autopilot/front/image', 'sensor_msgs/Image', online_inference)\n",
    "    signal.pause()\n",
    "finally:\n",
    "    client.close()"
   ]
  }
 ],
 "metadata": {
  "kernelspec": {
   "display_name": "openmmlab",
   "language": "python",
   "name": "python3"
  },
  "language_info": {
   "codemirror_mode": {
    "name": "ipython",
    "version": 3
   },
   "file_extension": ".py",
   "mimetype": "text/x-python",
   "name": "python",
   "nbconvert_exporter": "python",
   "pygments_lexer": "ipython3",
   "version": "3.8.18"
  }
 },
 "nbformat": 4,
 "nbformat_minor": 2
}
